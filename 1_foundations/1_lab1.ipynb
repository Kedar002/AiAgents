{
 "cells": [
  {
   "cell_type": "markdown",
   "metadata": {},
   "source": [
    "# Welcome to the start of your adventure in Agentic AI"
   ]
  },
  {
   "cell_type": "markdown",
   "metadata": {},
   "source": [
    "<table style=\"margin: 0; text-align: left; width:100%\">\n",
    "    <tr>\n",
    "        <td style=\"width: 150px; height: 150px; vertical-align: middle;\">\n",
    "            <img src=\"../assets/stop.png\" width=\"150\" height=\"150\" style=\"display: block;\" />\n",
    "        </td>\n",
    "        <td>\n",
    "            <h2 style=\"color:#ff7800;\">Are you ready for action??</h2>\n",
    "            <span style=\"color:#ff7800;\">Have you completed all the setup steps in the <a href=\"../setup/\">setup</a> folder?<br/>\n",
    "            Have you read the <a href=\"../README.md\">README</a>? Many common questions are answered here!<br/>\n",
    "            Have you checked out the guides in the <a href=\"../guides/01_intro.ipynb\">guides</a> folder?<br/>\n",
    "            Well in that case, you're ready!!\n",
    "            </span>\n",
    "        </td>\n",
    "    </tr>\n",
    "</table>"
   ]
  },
  {
   "cell_type": "markdown",
   "metadata": {},
   "source": [
    "<table style=\"margin: 0; text-align: left; width:100%\">\n",
    "    <tr>\n",
    "        <td style=\"width: 150px; height: 150px; vertical-align: middle;\">\n",
    "            <img src=\"../assets/tools.png\" width=\"150\" height=\"150\" style=\"display: block;\" />\n",
    "        </td>\n",
    "        <td>\n",
    "            <h2 style=\"color:#00bfff;\">This code is a live resource - keep an eye out for my updates</h2>\n",
    "            <span style=\"color:#00bfff;\">I push updates regularly. As people ask questions or have problems, I add more examples and improve explanations. As a result, the code below might not be identical to the videos, as I've added more steps and better comments. Consider this like an interactive book that accompanies the lectures.<br/><br/>\n",
    "            I try to send emails regularly with important updates related to the course. You can find this in the 'Announcements' section of Udemy in the left sidebar. You can also choose to receive my emails via your Notification Settings in Udemy. I'm respectful of your inbox and always try to add value with my emails!\n",
    "            </span>\n",
    "        </td>\n",
    "    </tr>\n",
    "</table>"
   ]
  },
  {
   "cell_type": "markdown",
   "metadata": {},
   "source": [
    "### And please do remember to contact me if I can help\n",
    "\n",
    "And I love to connect: https://www.linkedin.com/in/eddonner/\n",
    "\n",
    "\n",
    "### New to Notebooks like this one? Head over to the guides folder!\n",
    "\n",
    "Just to check you've already added the Python and Jupyter extensions to Cursor, if not already installed:\n",
    "- Open extensions (View >> extensions)\n",
    "- Search for python, and when the results show, click on the ms-python one, and Install it if not already installed\n",
    "- Search for jupyter, and when the results show, click on the Microsoft one, and Install it if not already installed  \n",
    "Then View >> Explorer to bring back the File Explorer.\n",
    "\n",
    "And then:\n",
    "1. Click where it says \"Select Kernel\" near the top right, and select the option called `.venv (Python 3.12.9)` or similar, which should be the first choice or the most prominent choice. You may need to choose \"Python Environments\" first.\n",
    "2. Click in each \"cell\" below, starting with the cell immediately below this text, and press Shift+Enter to run\n",
    "3. Enjoy!\n",
    "\n",
    "After you click \"Select Kernel\", if there is no option like `.venv (Python 3.12.9)` then please do the following:  \n",
    "1. On Mac: From the Cursor menu, choose Settings >> VS Code Settings (NOTE: be sure to select `VSCode Settings` not `Cursor Settings`);  \n",
    "On Windows PC: From the File menu, choose Preferences >> VS Code Settings(NOTE: be sure to select `VSCode Settings` not `Cursor Settings`)  \n",
    "2. In the Settings search bar, type \"venv\"  \n",
    "3. In the field \"Path to folder with a list of Virtual Environments\" put the path to the project root, like C:\\Users\\username\\projects\\agents (on a Windows PC) or /Users/username/projects/agents (on Mac or Linux).  \n",
    "And then try again.\n",
    "\n",
    "Having problems with missing Python versions in that list? Have you ever used Anaconda before? It might be interferring. Quit Cursor, bring up a new command line, and make sure that your Anaconda environment is deactivated:    \n",
    "`conda deactivate`  \n",
    "And if you still have any problems with conda and python versions, it's possible that you will need to run this too:  \n",
    "`conda config --set auto_activate_base false`  \n",
    "and then from within the Agents directory, you should be able to run `uv python list` and see the Python 3.12 version."
   ]
  },
  {
   "cell_type": "code",
   "execution_count": 23,
   "metadata": {},
   "outputs": [],
   "source": [
    "# First let's do an import. If you get an Import Error, double check that your Kernel is correct..\n",
    "\n",
    "from dotenv import load_dotenv\n"
   ]
  },
  {
   "cell_type": "code",
   "execution_count": 24,
   "metadata": {},
   "outputs": [
    {
     "data": {
      "text/plain": [
       "True"
      ]
     },
     "execution_count": 24,
     "metadata": {},
     "output_type": "execute_result"
    }
   ],
   "source": [
    "# Next it's time to load the API keys into environment variables\n",
    "# If this returns false, see the next cell!\n",
    "\n",
    "load_dotenv(override=True)"
   ]
  },
  {
   "cell_type": "markdown",
   "metadata": {},
   "source": [
    "### Wait, did that just output `False`??\n",
    "\n",
    "If so, the most common reason is that you didn't save your `.env` file after adding the key! Be sure to have saved.\n",
    "\n",
    "Also, make sure the `.env` file is named precisely `.env` and is in the project root directory (`agents`)\n",
    "\n",
    "By the way, your `.env` file should have a stop symbol next to it in Cursor on the left, and that's actually a good thing: that's Cursor saying to you, \"hey, I realize this is a file filled with secret information, and I'm not going to send it to an external AI to suggest changes, because your keys should not be shown to anyone else.\""
   ]
  },
  {
   "cell_type": "markdown",
   "metadata": {},
   "source": [
    "<table style=\"margin: 0; text-align: left; width:100%\">\n",
    "    <tr>\n",
    "        <td style=\"width: 150px; height: 150px; vertical-align: middle;\">\n",
    "            <img src=\"../assets/stop.png\" width=\"150\" height=\"150\" style=\"display: block;\" />\n",
    "        </td>\n",
    "        <td>\n",
    "            <h2 style=\"color:#ff7800;\">Final reminders</h2>\n",
    "            <span style=\"color:#ff7800;\">1. If you're not confident about Environment Variables or Web Endpoints / APIs, please read Topics 3 and 5 in this <a href=\"../guides/04_technical_foundations.ipynb\">technical foundations guide</a>.<br/>\n",
    "            2. If you want to use AIs other than OpenAI, like Gemini, DeepSeek or Ollama (free), please see the first section in this <a href=\"../guides/09_ai_apis_and_ollama.ipynb\">AI APIs guide</a>.<br/>\n",
    "            3. If you ever get a Name Error in Python, you can always fix it immediately; see the last section of this <a href=\"../guides/06_python_foundations.ipynb\">Python Foundations guide</a> and follow both tutorials and exercises.<br/>\n",
    "            </span>\n",
    "        </td>\n",
    "    </tr>\n",
    "</table>"
   ]
  },
  {
   "cell_type": "code",
   "execution_count": 25,
   "metadata": {},
   "outputs": [
    {
     "name": "stdout",
     "output_type": "stream",
     "text": [
      "OpenAI API Key exists and begins sk-proj-\n"
     ]
    }
   ],
   "source": [
    "# Check the key - if you're not using OpenAI, check whichever key you're using! Ollama doesn't need a key.\n",
    "\n",
    "import os\n",
    "openai_api_key = os.getenv('OPENAI_API_KEY')\n",
    "\n",
    "if openai_api_key:\n",
    "    print(f\"OpenAI API Key exists and begins {openai_api_key[:8]}\")\n",
    "else:\n",
    "    print(\"OpenAI API Key not set - please head to the troubleshooting guide in the setup folder\")\n",
    "    \n"
   ]
  },
  {
   "cell_type": "code",
   "execution_count": 26,
   "metadata": {},
   "outputs": [],
   "source": [
    "# And now - the all important import statement\n",
    "# If you get an import error - head over to troubleshooting in the Setup folder\n",
    "\n",
    "from openai import OpenAI"
   ]
  },
  {
   "cell_type": "code",
   "execution_count": 27,
   "metadata": {},
   "outputs": [],
   "source": [
    "# And now we'll create an instance of the OpenAI class\n",
    "# If you're not sure what it means to create an instance of a class - head over to the guides folder (guide 6)!\n",
    "# If you get a NameError - head over to the guides folder (guide 6)to learn about NameErrors - always instantly fixable\n",
    "# If you're not using OpenAI, you just need to slightly modify this - precise instructions are in the AI APIs guide (guide 9)\n",
    "\n",
    "openai = OpenAI()"
   ]
  },
  {
   "cell_type": "code",
   "execution_count": 28,
   "metadata": {},
   "outputs": [],
   "source": [
    "# Create a list of messages in the familiar OpenAI format\n",
    "\n",
    "messages = [{\"role\": \"user\", \"content\": \"What is 2+2?\"}]"
   ]
  },
  {
   "cell_type": "code",
   "execution_count": 29,
   "metadata": {},
   "outputs": [
    {
     "name": "stdout",
     "output_type": "stream",
     "text": [
      "2 + 2 equals 4.\n"
     ]
    }
   ],
   "source": [
    "# And now call it! Any problems, head to the troubleshooting guide\n",
    "# This uses GPT 4.1 nano, the incredibly cheap model\n",
    "# The APIs guide (guide 9) has exact instructions for using even cheaper or free alternatives to OpenAI\n",
    "# If you get a NameError, head to the guides folder (guide 6) to learn about NameErrors - always instantly fixable\n",
    "\n",
    "response = openai.chat.completions.create(\n",
    "    model=\"gpt-4.1-nano\",\n",
    "    messages=messages\n",
    ")\n",
    "\n",
    "print(response.choices[0].message.content)\n"
   ]
  },
  {
   "cell_type": "code",
   "execution_count": 30,
   "metadata": {},
   "outputs": [],
   "source": [
    "# And now - let's ask for a question:\n",
    "\n",
    "question = \"Please propose a hard, challenging question to assess someone's IQ. Respond only with the question.\"\n",
    "messages = [{\"role\": \"user\", \"content\": question}]\n"
   ]
  },
  {
   "cell_type": "code",
   "execution_count": 31,
   "metadata": {},
   "outputs": [
    {
     "name": "stdout",
     "output_type": "stream",
     "text": [
      "If three typists can type three pages in three minutes, how many typists will it take to type eighteen pages in six minutes?\n"
     ]
    }
   ],
   "source": [
    "# ask it - this uses GPT 4.1 mini, still cheap but more powerful than nano\n",
    "\n",
    "response = openai.chat.completions.create(\n",
    "    model=\"gpt-4.1-mini\",\n",
    "    messages=messages\n",
    ")\n",
    "\n",
    "question = response.choices[0].message.content\n",
    "\n",
    "print(question)\n"
   ]
  },
  {
   "cell_type": "code",
   "execution_count": 32,
   "metadata": {},
   "outputs": [],
   "source": [
    "# form a new messages list\n",
    "messages = [{\"role\": \"user\", \"content\": question}]\n"
   ]
  },
  {
   "cell_type": "code",
   "execution_count": 33,
   "metadata": {},
   "outputs": [
    {
     "name": "stdout",
     "output_type": "stream",
     "text": [
      "Let's break down the problem step by step:\n",
      "\n",
      "**Given:**\n",
      "- 3 typists can type 3 pages in 3 minutes.\n",
      "\n",
      "**Find:**\n",
      "- How many typists are needed to type 18 pages in 6 minutes?\n",
      "\n",
      "---\n",
      "\n",
      "### Step 1: Determine the typing rate per typist\n",
      "\n",
      "From the given information:\n",
      "\n",
      "- 3 typists → 3 pages in 3 minutes.\n",
      "  \n",
      "This means:\n",
      "\n",
      "- Total pages per minute by 3 typists = \\(\\frac{3 \\text{ pages}}{3 \\text{ minutes}} = 1 \\text{ page/min}\\).\n",
      "\n",
      "So with 3 typists, the typing rate is 1 page per minute collectively.\n",
      "\n",
      "Therefore,\n",
      "\n",
      "- Typing rate per typist = \\(\\frac{1 \\text{ page per minute}}{3 \\text{ typists}} = \\frac{1}{3} \\text{ page per minute per typist}\\).\n",
      "\n",
      "---\n",
      "\n",
      "### Step 2: Calculate the required typing rate for the new task\n",
      "\n",
      "We want to type 18 pages in 6 minutes.\n",
      "\n",
      "Required typing rate = \\(\\frac{18 \\text{ pages}}{6 \\text{ minutes}} = 3 \\text{ pages per minute}\\).\n",
      "\n",
      "---\n",
      "\n",
      "### Step 3: Calculate how many typists are needed\n",
      "\n",
      "We know each typist types at a rate of \\(\\frac{1}{3}\\) page per minute.\n",
      "\n",
      "So, if \\(x\\) is the number of typists needed:\n",
      "\n",
      "\\[\n",
      "x \\times \\frac{1}{3} = 3 \\implies x = 3 \\times 3 = 9.\n",
      "\\]\n",
      "\n",
      "---\n",
      "\n",
      "### **Answer:**\n",
      "\n",
      "It will take **9 typists** to type 18 pages in 6 minutes.\n"
     ]
    }
   ],
   "source": [
    "# Ask it again\n",
    "\n",
    "response = openai.chat.completions.create(\n",
    "    model=\"gpt-4.1-mini\",\n",
    "    messages=messages\n",
    ")\n",
    "\n",
    "answer = response.choices[0].message.content\n",
    "print(answer)\n"
   ]
  },
  {
   "cell_type": "code",
   "execution_count": 34,
   "metadata": {},
   "outputs": [
    {
     "data": {
      "text/markdown": [
       "Let's break down the problem step by step:\n",
       "\n",
       "**Given:**\n",
       "- 3 typists can type 3 pages in 3 minutes.\n",
       "\n",
       "**Find:**\n",
       "- How many typists are needed to type 18 pages in 6 minutes?\n",
       "\n",
       "---\n",
       "\n",
       "### Step 1: Determine the typing rate per typist\n",
       "\n",
       "From the given information:\n",
       "\n",
       "- 3 typists → 3 pages in 3 minutes.\n",
       "  \n",
       "This means:\n",
       "\n",
       "- Total pages per minute by 3 typists = \\(\\frac{3 \\text{ pages}}{3 \\text{ minutes}} = 1 \\text{ page/min}\\).\n",
       "\n",
       "So with 3 typists, the typing rate is 1 page per minute collectively.\n",
       "\n",
       "Therefore,\n",
       "\n",
       "- Typing rate per typist = \\(\\frac{1 \\text{ page per minute}}{3 \\text{ typists}} = \\frac{1}{3} \\text{ page per minute per typist}\\).\n",
       "\n",
       "---\n",
       "\n",
       "### Step 2: Calculate the required typing rate for the new task\n",
       "\n",
       "We want to type 18 pages in 6 minutes.\n",
       "\n",
       "Required typing rate = \\(\\frac{18 \\text{ pages}}{6 \\text{ minutes}} = 3 \\text{ pages per minute}\\).\n",
       "\n",
       "---\n",
       "\n",
       "### Step 3: Calculate how many typists are needed\n",
       "\n",
       "We know each typist types at a rate of \\(\\frac{1}{3}\\) page per minute.\n",
       "\n",
       "So, if \\(x\\) is the number of typists needed:\n",
       "\n",
       "\\[\n",
       "x \\times \\frac{1}{3} = 3 \\implies x = 3 \\times 3 = 9.\n",
       "\\]\n",
       "\n",
       "---\n",
       "\n",
       "### **Answer:**\n",
       "\n",
       "It will take **9 typists** to type 18 pages in 6 minutes."
      ],
      "text/plain": [
       "<IPython.core.display.Markdown object>"
      ]
     },
     "metadata": {},
     "output_type": "display_data"
    }
   ],
   "source": [
    "from IPython.display import Markdown, display\n",
    "\n",
    "display(Markdown(answer))\n",
    "\n"
   ]
  },
  {
   "cell_type": "markdown",
   "metadata": {},
   "source": [
    "# Congratulations!\n",
    "\n",
    "That was a small, simple step in the direction of Agentic AI, with your new environment!\n",
    "\n",
    "Next time things get more interesting..."
   ]
  },
  {
   "cell_type": "markdown",
   "metadata": {},
   "source": [
    "<table style=\"margin: 0; text-align: left; width:100%\">\n",
    "    <tr>\n",
    "        <td style=\"width: 150px; height: 150px; vertical-align: middle;\">\n",
    "            <img src=\"../assets/exercise.png\" width=\"150\" height=\"150\" style=\"display: block;\" />\n",
    "        </td>\n",
    "        <td>\n",
    "            <h2 style=\"color:#ff7800;\">Exercise</h2>\n",
    "            <span style=\"color:#ff7800;\">Now try this commercial application:<br/>\n",
    "            First ask the LLM to pick a business area that might be worth exploring for an Agentic AI opportunity.<br/>\n",
    "            Then ask the LLM to present a pain-point in that industry - something challenging that might be ripe for an Agentic solution.<br/>\n",
    "            Finally have 3 third LLM call propose the Agentic AI solution. <br/>\n",
    "            We will cover this at up-coming labs, so don't worry if you're unsure.. just give it a try!\n",
    "            </span>\n",
    "        </td>\n",
    "    </tr>\n",
    "</table>"
   ]
  },
  {
   "cell_type": "code",
   "execution_count": 2,
   "metadata": {},
   "outputs": [
    {
     "name": "stdout",
     "output_type": "stream",
     "text": [
      "Business Idea: Using an agentic AI approach involves leveraging Artificial Intelligence to automate decision-making and optimize processes in a way that mimics human agency. In the context of finding a profitable business area in India, this approach can help identify and exploit opportunities more effectively. Here are a few business areas that might be profitable:\n",
      "\n",
      "1. **Agritech Solutions**:\n",
      "   - **Agentic AI Application**: Develop AI-driven platforms for smart farming—automating crop management, optimizing resource usage (like water and fertilizers), and predicting yields based on climate data and soil health. \n",
      "   - **Opportunity**: Agriculture is a major sector in India, and there is a growing demand for technology to improve productivity and sustainability.\n",
      "\n",
      "2. **E-commerce and Hyperlocal Delivery**:\n",
      "   - **Agentic AI Application**: Use AI for supply chain optimization, personalized shopping experiences, and automated customer service.\n",
      "   - **Opportunity**: With the rapid growth of internet penetration and digital payments, e-commerce is thriving. AI can enhance efficiency and customer satisfaction, leading to increased profitability.\n",
      "\n",
      "3. **Healthcare & Telemedicine**:\n",
      "   - **Agentic AI Application**: Implement AI systems for predictive healthcare analytics, personalized treatment recommendations, and efficient telemedicine platforms for rural and urban populations.\n",
      "   - **Opportunity**: The demand for accessible healthcare and digital health solutions is increasing in India, especially post-COVID-19.\n",
      "\n",
      "4. **Financial Technology (FinTech)**:\n",
      "   - **Agentic AI Application**: Create AI-driven platforms for credit scoring, fraud detection, and personalized financial advising.\n",
      "   - **Opportunity**: With a large unbanked population and increasing smartphone usage, fintech solutions can bridge gaps in financial inclusion.\n",
      "\n",
      "5. **Renewable Energy and Energy Storage**:\n",
      "   - **Agentic AI Application**: Use AI for optimizing energy production and consumption patterns, predictive maintenance of infrastructure, and developing smart grids.\n",
      "   - **Opportunity**: The push towards renewable energy sources offers potential for innovation and growth, especially with government incentives in place.\n",
      "\n",
      "6. **Education Technology (EdTech)**:\n",
      "   - **Agentic AI Application**: Develop personalized learning platforms using AI to adapt to each student’s learning style and pace, and integrate automated administrative processes.\n",
      "   - **Opportunity**: With a young population and increasing digital adoption, there is robust growth potential in delivering education solutions.\n",
      "\n",
      "7. **Real Estate and Smart Cities**:\n",
      "   - **Agentic AI Application**: Implement AI for property search optimization, demand forecasting, and smart infrastructure development.\n",
      "   - **Opportunity**: Urbanization and smart city initiatives provide long-term profitability potential.\n",
      "\n",
      "Each of these sectors presents unique opportunities when enhanced with agentic AI, allowing businesses to operate more efficiently and offer improved services, ultimately leading to greater profitability.\n",
      "Pain Point: Let's consider a specific pain point in one of the business areas mentioned, focusing on **Healthcare & Telemedicine**:\n",
      "\n",
      "**Pain Point: Access to Quality Healthcare in Rural Areas**\n",
      "\n",
      "**Background:**\n",
      "India's healthcare system faces significant challenges in providing quality healthcare services to its large rural population. Residents in these areas often experience limited access to healthcare facilities, a shortage of qualified medical professionals, and long travel distances to reach urban centers for specialized care. This disparity leads to late diagnosis of diseases, untreated medical conditions, and increased healthcare costs associated with travel and time lost.\n",
      "\n",
      "**Agentic AI Solution:**\n",
      "Develop an AI-driven telemedicine platform designed to bridge the gap between urban medical specialists and rural patients. This platform could incorporate:\n",
      "\n",
      "1. **AI-powered Diagnostics**: Utilize machine learning algorithms to analyze patient data (e.g., symptoms, medical history, and basic test results) and provide preliminary diagnoses. This would allow for early detection and treatment of conditions that might otherwise go unnoticed.\n",
      "\n",
      "2. **Automated Decision-making Support**: Offer decision support systems for rural healthcare workers, guiding them in choosing the right course of action with respect to treatment plans and when to escalate cases to specialists.\n",
      "\n",
      "3. **Remote Monitoring and Alerts**: Implement IoT devices and wearables to monitor patients' vital signs remotely. The AI system can analyze trends and send alerts to healthcare providers if there are any concerning changes in a patient's condition.\n",
      "\n",
      "4. **Personalized Care Plans**: Generate custom care plans for patients based on real-time data and ongoing health assessments, which can be updated as more information is gathered through continuous monitoring.\n",
      "\n",
      "5. **Seamless Communication**: Facilitate real-time consultations between rural patients or healthcare workers and specialists via video calls, ensuring that patients receive expert guidance without having to travel far.\n",
      "\n",
      "**Opportunity:**\n",
      "By addressing this pain point with an agentic AI approach, there is a significant opportunity to improve health outcomes for millions of rural Indians. Moreover, the platform would help alleviate the burden on urban healthcare facilities by managing patient care more efficiently and preventing unnecessary escalations. This could also lead to a scalable business model with potential for expansion into other emerging markets facing similar challenges.\n",
      "AI Solution: To address the pain point of limited access to quality healthcare in rural areas of India, an effective solution would encompass a comprehensive, AI-driven telemedicine platform as detailed below:\n",
      "\n",
      "**Solution: AI-Empowered Rural Telehealth Network**\n",
      "\n",
      "1. **Deployment of Mobile Health Clinics**:\n",
      "   - **Implementation**: Establish mobile health units equipped with basic diagnostic tools, connected devices, and telemedicine capabilities. These units can travel to remote villages on a scheduled basis.\n",
      "   - **Function**: Conduct on-site initial assessments, collect health data, and provide basic healthcare services, while leveraging AI algorithms for immediate diagnostic support.\n",
      "\n",
      "2. **AI-Powered Diagnostics**:\n",
      "   - **Implementation**: Integrate machine learning tools that analyze collected patient symptoms and data. These tools can offer preliminary diagnoses, highlight potential risk factors, and suggest probable conditions that need attention.\n",
      "   - **Function**: Enable healthcare workers to identify issues quickly, prioritizing those needing urgent care and reducing the risk of misdiagnosis.\n",
      "\n",
      "3. **Enhanced Remote Monitoring and Alerts**:\n",
      "   - **Implementation**: Provide affordable IoT-enabled health monitoring devices (e.g., blood pressure cuffs, glucose monitors) to patients with chronic conditions for home use.\n",
      "   - **Function**: Continuously collect health data and apply AI to analyze trends, sending automated alerts to local health workers and distant specialists if abnormalities are detected.\n",
      "\n",
      "4. **Decision Support Systems (DSS)**:\n",
      "   - **Implementation**: Develop a decision support platform accessible to rural healthcare workers, offering treatment guidelines, drug interaction alerts, and decision trees.\n",
      "   - **Function**: Empower less-experienced healthcare workers by providing them with real-time support in making informed decisions about patient care.\n",
      "\n",
      "5. **Teleconsultation Hub**:\n",
      "   - **Implementation**: Build a centralized teleconsultation hub staffed with specialists who can provide remote consultations via video conferencing with rural clinics or directly with patients.\n",
      "   - **Function**: Reduce the need for patients to travel long distances for specialist consultations, facilitating timely advice and secondary opinions.\n",
      "\n",
      "6. **Patient Engagement and Education**:\n",
      "   - **Implementation**: Use AI to tailor educational content and interactive platforms to promote awareness about health practices, preventive measures, and disease management.\n",
      "   - **Function**: Encourage proactive healthcare behaviors among rural populations, lowering the overall healthcare burden by prioritizing prevention.\n",
      "\n",
      "7. **Scalability and Integration**:\n",
      "   - **Implementation**: Design the platform to seamlessly integrate with existing healthcare data systems and allow for scale-up across different regions and healthcare networks.\n",
      "   - **Function**: Ensure adaptability and long-term viability, facilitating expansion into new areas and integration with government health initiatives.\n",
      "\n",
      "**Outcome and Sustainability**:\n",
      "Implementing this AI-empowered telehealth network addresses critical gaps in rural healthcare access, enhancing early diagnosis, continuous monitoring, and expert consultation processes. Additionally, this model promotes sustainable healthcare delivery by optimizing resource utilization and fostering community health education, ultimately paving the way for wider application in other developing regions with similar challenges. The approach not only improves current health outcomes but also establishes a proactive infrastructure resilient to future healthcare demands.\n"
     ]
    }
   ],
   "source": [
    "import openai\n",
    "\n",
    "messages = [{\"role\": \"user\", \"content\": \"Pick business area that might be profitable in India using an agentic AI approach\"}]\n",
    "\n",
    "# Step 1: Ask for business idea\n",
    "response = openai.chat.completions.create(\n",
    "    model=\"gpt-4o\",  # use \"gpt-4o\" or \"gpt-4\" or \"gpt-3.5-turbo\"\n",
    "    messages=messages\n",
    ")\n",
    "business_idea = response.choices[0].message.content\n",
    "print(\"Business Idea:\", business_idea)\n",
    "\n",
    "# Step 2: Ask for pain point using same conversation context\n",
    "messages.append({\"role\": \"assistant\", \"content\": business_idea})\n",
    "messages.append({\n",
    "    \"role\": \"user\",\n",
    "    \"content\": f\"Present a pain point that might be ripe for an agentic AI solution in {business_idea or ''}\"\n",
    "})\n",
    "response = openai.chat.completions.create(\n",
    "    model=\"gpt-4o\",\n",
    "    messages=messages\n",
    ")\n",
    "pinpointSolving = response.choices[0].message.content\n",
    "print(\"Pain Point:\", pinpointSolving)\n",
    "\n",
    "# Step 3: Ask for solution\n",
    "messages.append({\"role\": \"assistant\", \"content\": pinpointSolving})\n",
    "messages.append({\n",
    "    \"role\": \"user\",\n",
    "    \"content\": f\"Propose a solution to the pain point in {pinpointSolving or ''}\"\n",
    "})\n",
    "response = openai.chat.completions.create(\n",
    "    model=\"gpt-4o\",\n",
    "    messages=messages\n",
    ")\n",
    "finalAnswer = response.choices[0].message.content\n",
    "print(\"AI Solution:\", finalAnswer)\n"
   ]
  },
  {
   "cell_type": "markdown",
   "metadata": {},
   "source": []
  }
 ],
 "metadata": {
  "kernelspec": {
   "display_name": ".venv",
   "language": "python",
   "name": "python3"
  },
  "language_info": {
   "codemirror_mode": {
    "name": "ipython",
    "version": 3
   },
   "file_extension": ".py",
   "mimetype": "text/x-python",
   "name": "python",
   "nbconvert_exporter": "python",
   "pygments_lexer": "ipython3",
   "version": "3.12.10"
  }
 },
 "nbformat": 4,
 "nbformat_minor": 2
}
